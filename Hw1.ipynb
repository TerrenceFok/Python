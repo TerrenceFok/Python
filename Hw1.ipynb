{
 "cells": [
  {
   "cell_type": "code",
   "execution_count": null,
   "metadata": {
    "collapsed": true
   },
   "outputs": [],
   "source": [
    "#USE PYTHON FOR FIRST CLASS SECOND QUESTION\n",
    "import numpy as np\n",
    "import pandas as pd\n",
    "df = pd.merge(Friend_request, request_accepted,how='left',on='requestor_id')\n",
    "rate = df.acceptor_id.count() / len(df.sent_to_id)"
   ]
  },
  {
   "cell_type": "code",
   "execution_count": null,
   "metadata": {
    "collapsed": true
   },
   "outputs": [],
   "source": [
    "#USE SQL FOR FIRST CLASS SECOND QUESTION\n",
    "\n",
    "select count(acceptor_id) * 1.0/count(sent_to_id)  as rate \n",
    "\t\tfrom friend_request fr\n",
    "\t\tleft join request_accepted ra\n",
    "            \ton fr.requestor_id = ra.requestor_id;"
   ]
  },
  {
   "cell_type": "code",
   "execution_count": null,
   "metadata": {
    "collapsed": true
   },
   "outputs": [],
   "source": [
    "# ANSWER FOR SECOND CLASS FIRST QUESTION\n",
    "# for any given experiment_id, country and vertical, return a list group by date\n",
    "def GetSeries1(my_data, my_id, my_country, my_vertical):\n",
    "    table = my_data[[\"date\", \"spend_usd\", \"country\", \"vertical\"]][my_data.experiment_id == my_id][my_data.country == my_country][my_data.vertical == my_vertical]\n",
    "    series = table.groupby(['date','country', 'vertical'])['spend_usd'].sum()\n",
    "    series1 = np.cumsum(series)\n",
    "    return(series1)\n",
    "\n",
    "#PrintCumulativeTimeSeries\n",
    "def PrintCumulativeTimeSeries(my_data, experiment_ids, country, vertical):\n",
    "    # make sure our x-axis is consistent\n",
    "    date_series = my_data.date\n",
    "    index_series = np.unique(date_series) # unique date\n",
    "    index_series = np.sort(index_series) # sort by date  \n",
    "    # data grouping\n",
    "    my_data = my_data.sort_values(\"date\", ascending=True, inplace=False)\n",
    "    treatment_series = GetSeries1(my_data, experiment_ids[0], country, vertical)\n",
    "    control_series = GetSeries1(my_data, experiment_ids[1], country, vertical)\n",
    "    \n",
    "    red = GetSeries1(my_data, 12624548, 'US', 'YOUTUBE')\n",
    "    blue = GetSeries1(my_data, 12624549, 'US', 'YOUTUBE')\n",
    "    print((red - blue) / blue)\n",
    "    PlotSeries(index_series, treatment_series, control_series)\n",
    "    \n",
    "PrintCumulativeTimeSeries(my_data, [12624548,12624549], 'US', 'YOUTUBE')\n"
   ]
  },
  {
   "cell_type": "code",
   "execution_count": null,
   "metadata": {
    "collapsed": true
   },
   "outputs": [],
   "source": [
    "# ANSWER FOR SECOND CLASS SECOND QUESTION\n",
    "import numpy as np\n",
    "import pandas as pd\n",
    "import scipy\n",
    "import matplotlib.pyplot as plt\n",
    "%matplotlib inline\n",
    "import random\n",
    "\n",
    "\n",
    "histogram=plt.figure()\n",
    "\n",
    "my_series_jp = my_data[\"spend_usd\"][(my_data.spend_usd < 20) & (my_data.country == \"JP\")]\n",
    "my_series_us = my_data[\"spend_usd\"][(my_data.spend_usd < 20) & (my_data.country == \"US\")]\n",
    "\n",
    "bins = np.linspace(0, 20)\n",
    "fig, ax = plt.subplots(ncols=1, sharex=True, sharey=True)\n",
    "plt.hist(my_series_jp, bins, alpha=0.5)\n",
    "plt.hist(my_series_us, bins, alpha=0.5)\n",
    "ax.set_title(\"US & JP\")\n",
    "ax.set_ylabel(\"Buyer count\")\n",
    "ax.set_xlabel(\"Spend\")\n",
    "\n",
    "plt.show()"
   ]
  }
 ],
 "metadata": {
  "kernelspec": {
   "display_name": "Python 3",
   "language": "python",
   "name": "python3"
  },
  "language_info": {
   "codemirror_mode": {
    "name": "ipython",
    "version": 3
   },
   "file_extension": ".py",
   "mimetype": "text/x-python",
   "name": "python",
   "nbconvert_exporter": "python",
   "pygments_lexer": "ipython3",
   "version": "3.6.1"
  }
 },
 "nbformat": 4,
 "nbformat_minor": 2
}
